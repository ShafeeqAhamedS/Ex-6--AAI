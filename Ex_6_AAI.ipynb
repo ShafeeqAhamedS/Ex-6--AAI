{
  "nbformat": 4,
  "nbformat_minor": 0,
  "metadata": {
    "colab": {
      "provenance": [],
      "authorship_tag": "ABX9TyMpUrkeUukR0Fdh3UOjgGXd",
      "include_colab_link": true
    },
    "kernelspec": {
      "name": "python3",
      "display_name": "Python 3"
    },
    "language_info": {
      "name": "python"
    }
  },
  "cells": [
    {
      "cell_type": "markdown",
      "metadata": {
        "id": "view-in-github",
        "colab_type": "text"
      },
      "source": [
        "<a href=\"https://colab.research.google.com/github/ShafeeqAhamedS/Ex-6--AAI/blob/main/Ex_6_AAI.ipynb\" target=\"_parent\"><img src=\"https://colab.research.google.com/assets/colab-badge.svg\" alt=\"Open In Colab\"/></a>"
      ]
    },
    {
      "cell_type": "code",
      "source": [
        "!pip install nltk"
      ],
      "metadata": {
        "id": "PlzSu8iJnHO8",
        "colab": {
          "base_uri": "https://localhost:8080/"
        },
        "outputId": "c928949a-76a2-404a-8dbd-2b74742c730f"
      },
      "execution_count": 5,
      "outputs": [
        {
          "output_type": "stream",
          "name": "stdout",
          "text": [
            "Requirement already satisfied: nltk in /usr/local/lib/python3.10/dist-packages (3.8.1)\n",
            "Requirement already satisfied: click in /usr/local/lib/python3.10/dist-packages (from nltk) (8.1.7)\n",
            "Requirement already satisfied: joblib in /usr/local/lib/python3.10/dist-packages (from nltk) (1.4.2)\n",
            "Requirement already satisfied: regex>=2021.8.3 in /usr/local/lib/python3.10/dist-packages (from nltk) (2024.9.11)\n",
            "Requirement already satisfied: tqdm in /usr/local/lib/python3.10/dist-packages (from nltk) (4.66.6)\n"
          ]
        }
      ]
    },
    {
      "cell_type": "code",
      "source": [
        "import nltk\n",
        "from nltk.tokenize import word_tokenize\n",
        "from nltk.corpus import wordnet\n",
        "nltk.download('punkt')\n",
        "nltk.download('averaged_perceptron_tagger')\n",
        "nltk.download('wordnet')"
      ],
      "metadata": {
        "id": "tyqhabXRnFzg",
        "colab": {
          "base_uri": "https://localhost:8080/"
        },
        "outputId": "c3fe069c-0600-451a-d508-97aab49d78bc"
      },
      "execution_count": 6,
      "outputs": [
        {
          "output_type": "stream",
          "name": "stderr",
          "text": [
            "[nltk_data] Downloading package punkt to /root/nltk_data...\n",
            "[nltk_data]   Package punkt is already up-to-date!\n",
            "[nltk_data] Downloading package averaged_perceptron_tagger to\n",
            "[nltk_data]     /root/nltk_data...\n",
            "[nltk_data]   Package averaged_perceptron_tagger is already up-to-\n",
            "[nltk_data]       date!\n",
            "[nltk_data] Downloading package wordnet to /root/nltk_data...\n",
            "[nltk_data]   Package wordnet is already up-to-date!\n"
          ]
        },
        {
          "output_type": "execute_result",
          "data": {
            "text/plain": [
              "True"
            ]
          },
          "metadata": {},
          "execution_count": 6
        }
      ]
    },
    {
      "cell_type": "code",
      "execution_count": 7,
      "metadata": {
        "id": "w788M2f-m8YS",
        "colab": {
          "base_uri": "https://localhost:8080/"
        },
        "outputId": "d691201c-1fb3-44d9-ba29-5f71c0f417da"
      },
      "outputs": [
        {
          "output_type": "stream",
          "name": "stdout",
          "text": [
            "Sentence 1 : The curious dog chased the red ball through the park.\n",
            "\n",
            "The -> DT\n",
            "curious -> JJ\n",
            "dog -> NN\n",
            "chased -> VBD\n",
            "the -> DT\n",
            "red -> JJ\n",
            "ball -> NN\n",
            "through -> IN\n",
            "the -> DT\n",
            "park -> NN\n",
            ". -> .\n",
            "\n",
            "\n",
            "\n",
            "Sentence 2 : Sarah enjoys baking delicious chocolate chip cookies on weekends.\n",
            "Sarah -> NNP\n",
            "enjoys -> VBZ\n",
            "baking -> VBG\n",
            "delicious -> JJ\n",
            "chocolate -> NN\n",
            "chip -> NN\n",
            "cookies -> NNS\n",
            "on -> IN\n",
            "weekends -> NNS\n",
            ". -> .\n",
            "\n",
            "\n",
            "\n"
          ]
        }
      ],
      "source": [
        "f = open(\"/content/sample_data.txt\", \"r\")\n",
        "sentences = f.readlines()\n",
        "f.close()\n",
        "verbs = [[] for _ in sentences]\n",
        "i=0\n",
        "for sentence in sentences:\n",
        "  print(\"Sentence\",i+1,\":\", sentence)\n",
        "\n",
        "  # Tokenize the sentence into words\n",
        "  words = word_tokenize(sentence)\n",
        "\n",
        "  # Identify the parts of speech for each word\n",
        "  pos_tags = nltk.pos_tag(words)\n",
        "\n",
        "  # Print the parts of speech\n",
        "  for word,tag in pos_tags:\n",
        "    print(word,\"->\",tag)\n",
        "\n",
        "    # Save verbs\n",
        "    if tag.startswith('VB'):\n",
        "      verbs[i].append(word)\n",
        "  i+=1\n",
        "  print(\"\\n\\n\")"
      ]
    },
    {
      "cell_type": "code",
      "source": [
        "# Identify synonyms and antonyms for each word\n",
        "print(\"Synonyms and Antonymns for verbs in each sentence:\\n\")\n",
        "i=0\n",
        "for sentence in sentences:\n",
        "  print(\"Sentence\",i+1,\":\", sentence)\n",
        "  pos_tags = nltk.pos_tag(verbs[i])\n",
        "  for word,tag in pos_tags:\n",
        "    print(word,\"->\",tag)\n",
        "    synonyms = []\n",
        "    antonyms = []\n",
        "    for syn in wordnet.synsets(word):\n",
        "      for lemma in syn.lemmas():\n",
        "        synonyms.append(lemma.name())\n",
        "        if lemma.antonyms():\n",
        "          for antonym in lemma.antonyms():\n",
        "            antonyms.append(antonym.name())\n",
        "\n",
        "    # Print the synonyms and antonyms\n",
        "    print(\"Synonyms:\",set(synonyms))\n",
        "    print(\"Antonyms:\", set(antonyms) if antonyms else \"None\")\n",
        "    print()\n",
        "  print(\"\\n\\n\")\n",
        "  i+=1"
      ],
      "metadata": {
        "id": "eANkpq5GnRWP",
        "colab": {
          "base_uri": "https://localhost:8080/"
        },
        "outputId": "566d3c19-4b59-4818-b6a4-fc5404531d6b"
      },
      "execution_count": 8,
      "outputs": [
        {
          "output_type": "stream",
          "name": "stdout",
          "text": [
            "Synonyms and Antonymns for verbs in each sentence:\n",
            "\n",
            "Sentence 1 : The curious dog chased the red ball through the park.\n",
            "\n",
            "chased -> VBN\n",
            "Synonyms: {'chase_after', 'trail', 'pursued', 'dog', 'chased', 'tail', 'go_after', 'give_chase', 'track', 'chase', 'furrow', 'chamfer', 'tag'}\n",
            "Antonyms: None\n",
            "\n",
            "\n",
            "\n",
            "\n",
            "Sentence 2 : Sarah enjoys baking delicious chocolate chip cookies on weekends.\n",
            "enjoys -> NNS\n",
            "Synonyms: {'enjoy', 'savour', 'love', 'revel', 'delight', 'savor', 'relish', 'bask'}\n",
            "Antonyms: {'suffer'}\n",
            "\n",
            "baking -> VBG\n",
            "Synonyms: {'baking_hot', 'broil', 'baking', 'bake'}\n",
            "Antonyms: None\n",
            "\n",
            "\n",
            "\n",
            "\n"
          ]
        }
      ]
    }
  ]
}