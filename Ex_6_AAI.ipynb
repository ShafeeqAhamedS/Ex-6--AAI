{
  "nbformat": 4,
  "nbformat_minor": 0,
  "metadata": {
    "colab": {
      "private_outputs": true,
      "provenance": [],
      "authorship_tag": "ABX9TyM59NxBCGlq65uRrfMfw6Wm",
      "include_colab_link": true
    },
    "kernelspec": {
      "name": "python3",
      "display_name": "Python 3"
    },
    "language_info": {
      "name": "python"
    }
  },
  "cells": [
    {
      "cell_type": "markdown",
      "metadata": {
        "id": "view-in-github",
        "colab_type": "text"
      },
      "source": [
        "<a href=\"https://colab.research.google.com/github/ShafeeqAhamedS/Ex-6--AAI/blob/main/Ex_6_AAI.ipynb\" target=\"_parent\"><img src=\"https://colab.research.google.com/assets/colab-badge.svg\" alt=\"Open In Colab\"/></a>"
      ]
    },
    {
      "cell_type": "code",
      "source": [
        "!pip install nltk"
      ],
      "metadata": {
        "id": "PlzSu8iJnHO8"
      },
      "execution_count": null,
      "outputs": []
    },
    {
      "cell_type": "code",
      "source": [
        "import nltk\n",
        "from nltk.tokenize import word_tokenize\n",
        "from nltk.corpus import wordnet\n",
        "nltk.download('punkt')\n",
        "nltk.download('averaged_perceptron_tagger')\n",
        "nltk.download('wordnet')"
      ],
      "metadata": {
        "id": "tyqhabXRnFzg"
      },
      "execution_count": null,
      "outputs": []
    },
    {
      "cell_type": "code",
      "execution_count": null,
      "metadata": {
        "id": "w788M2f-m8YS"
      },
      "outputs": [],
      "source": [
        "f = open(\"/content/sample_data.txt\", \"r\")\n",
        "sentences = f.readlines()\n",
        "f.close()\n",
        "verbs = [[] for _ in sentences]\n",
        "i=0\n",
        "for sentence in sentences:\n",
        "  print(\"Sentence\",i+1,\":\", sentence)\n",
        "\n",
        "  # Tokenize the sentence into words\n",
        "  words = word_tokenize(sentence)\n",
        "\n",
        "  # Identify the parts of speech for each word\n",
        "  pos_tags = nltk.pos_tag(words)\n",
        "\n",
        "  # Print the parts of speech\n",
        "  for word,tag in pos_tags:\n",
        "    print(word,\"->\",tag)\n",
        "\n",
        "    # Save verbs\n",
        "    if tag.startswith('VB'):\n",
        "      verbs[i].append(word)\n",
        "  i+=1\n",
        "  print(\"\\n\\n\")"
      ]
    },
    {
      "cell_type": "code",
      "source": [
        "# Identify synonyms and antonyms for each word\n",
        "print(\"Synonyms and Antonymns for verbs in each sentence:\\n\")\n",
        "i=0\n",
        "for sentence in sentences:\n",
        "  print(\"Sentence\",i+1,\":\", sentence)\n",
        "  pos_tags = nltk.pos_tag(verbs[i])\n",
        "  for word,tag in pos_tags:\n",
        "    print(word,\"->\",tag)\n",
        "    synonyms = []\n",
        "    antonyms = []\n",
        "    for syn in wordnet.synsets(word):\n",
        "      for lemma in syn.lemmas():\n",
        "        synonyms.append(lemma.name())\n",
        "        if lemma.antonyms():\n",
        "          for antonym in lemma.antonyms():\n",
        "            antonyms.append(antonym.name())\n",
        "\n",
        "    # Print the synonyms and antonyms\n",
        "    print(\"Synonyms:\",set(synonyms))\n",
        "    print(\"Antonyms:\", set(antonyms) if antonyms else \"None\")\n",
        "    print()\n",
        "  print(\"\\n\\n\")\n",
        "  i+=1"
      ],
      "metadata": {
        "id": "eANkpq5GnRWP"
      },
      "execution_count": null,
      "outputs": []
    },
    {
      "cell_type": "code",
      "source": [],
      "metadata": {
        "id": "6U-U46NzoLR_"
      },
      "execution_count": null,
      "outputs": []
    }
  ]
}